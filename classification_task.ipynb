{
 "cells": [
  {
   "cell_type": "code",
   "execution_count": 1,
   "metadata": {},
   "outputs": [
    {
     "name": "stderr",
     "output_type": "stream",
     "text": [
      "Failed to detect the name of this notebook, you can set it manually with the WANDB_NOTEBOOK_NAME environment variable to enable code saving.\n",
      "\u001b[34m\u001b[1mwandb\u001b[0m: Currently logged in as: \u001b[33madrian-dendorfer\u001b[0m (\u001b[33madrian_s_playground\u001b[0m). Use \u001b[1m`wandb login --relogin`\u001b[0m to force relogin\n"
     ]
    }
   ],
   "source": [
    "import torch\n",
    "from torch.utils.data import DataLoader\n",
    "\n",
    "import matplotlib.pyplot as plt\n",
    "plt.style.use('dark_background')\n",
    "\n",
    "import dataloader as dl\n",
    "import models as models\n",
    "import train as train\n",
    "\n",
    "import wandb as wandb"
   ]
  },
  {
   "cell_type": "code",
   "execution_count": 19,
   "metadata": {},
   "outputs": [],
   "source": [
    "h_params = {\n",
    "    \"num_epochs\": 100, \n",
    "    \"batch_size\": 32, \n",
    "    \"hidden_size1\": 4096, # 512, \n",
    "    \"hidden_size2\": 256, #128, \n",
    "    \"lr\": 0.02,  \n",
    "\n",
    "    \"length_sample\": 100, \n",
    "    \"number_samples\": 1,\n",
    "}"
   ]
  },
  {
   "cell_type": "code",
   "execution_count": 20,
   "metadata": {},
   "outputs": [
    {
     "name": "stdout",
     "output_type": "stream",
     "text": [
      "cuda:0\n"
     ]
    },
    {
     "data": {
      "text/plain": [
       "ShallowConvNet(\n",
       "  (temporal_conv): Conv2d(61, 40, kernel_size=(1, 25), stride=(1, 1), padding=valid)\n",
       "  (spatial_conv): Conv2d(40, 40, kernel_size=(61, 40), stride=(1, 1), padding=same)\n",
       "  (pooling): AvgPool2d(kernel_size=(1, 75), stride=(15, 1), padding=0)\n",
       "  (flatten): Flatten(start_dim=1, end_dim=-1)\n",
       "  (linear_classification): Linear(in_features=80, out_features=1, bias=True)\n",
       "  (final_activation): Sigmoid()\n",
       ")"
      ]
     },
     "execution_count": 20,
     "metadata": {},
     "output_type": "execute_result"
    }
   ],
   "source": [
    "# Get dataloaders\n",
    "train_loader = dl.build_dataloader(\"train\", h_params[\"length_sample\"], h_params[\"batch_size\"], h_params[\"number_samples\"])\n",
    "val_loader = dl.build_dataloader(\"val\", h_params[\"length_sample\"], h_params[\"batch_size\"], h_params[\"number_samples\"])\n",
    "test_loader = dl.build_dataloader(\"test\", h_params[\"length_sample\"], h_params[\"batch_size\"], h_params[\"number_samples\"])\n",
    "\n",
    "# Get device\n",
    "device = torch.device(\"cuda:0\" if torch.cuda.is_available() else \"cpu\")\n",
    "print(device)\n",
    "\n",
    "# Get model\n",
    "# model = models.SimpleClassifierNN(61*100, 256, 32)\n",
    "model = models.ShallowConvNet(n_channels = 61, n_classes = 1, input_time_length = 100, n_filters=40, filter_time_length=25, pool_time_length=75, pool_time_stride=15) #, drop_prob=0.5)\n",
    "model.to(device)"
   ]
  },
  {
   "cell_type": "code",
   "execution_count": 24,
   "metadata": {},
   "outputs": [
    {
     "data": {
      "text/html": [
       "Finishing last run (ID:bnrlpo56) before initializing another..."
      ],
      "text/plain": [
       "<IPython.core.display.HTML object>"
      ]
     },
     "metadata": {},
     "output_type": "display_data"
    },
    {
     "name": "stderr",
     "output_type": "stream",
     "text": [
      "wandb: WARNING Source type is set to 'repo' but some required information is missing from the environment. A job will not be created from this run. See https://docs.wandb.ai/guides/launch/create-job\n"
     ]
    },
    {
     "data": {
      "text/html": [
       "<style>\n",
       "    table.wandb td:nth-child(1) { padding: 0 10px; text-align: left ; width: auto;} td:nth-child(2) {text-align: left ; width: 100%}\n",
       "    .wandb-row { display: flex; flex-direction: row; flex-wrap: wrap; justify-content: flex-start; width: 100% }\n",
       "    .wandb-col { display: flex; flex-direction: column; flex-basis: 100%; flex: 1; padding: 10px; }\n",
       "    </style>\n",
       "<div class=\"wandb-row\"><div class=\"wandb-col\"><h3>Run history:</h3><br/><table class=\"wandb\"><tr><td>train_accuracy</td><td>██▅▁▁▁▁▁▁▁</td></tr><tr><td>train_loss</td><td>▁▁▄███████</td></tr><tr><td>train_loss_accumulating</td><td>▁▁▄███████</td></tr><tr><td>val_accuracy</td><td>█▅▁▁▁▁▁▁▁▁</td></tr><tr><td>val_loss</td><td>▁▄████████</td></tr><tr><td>val_loss_accumulating</td><td>▁▄████████</td></tr></table><br/></div><div class=\"wandb-col\"><h3>Run summary:</h3><br/><table class=\"wandb\"><tr><td>train_accuracy</td><td>-74.0</td></tr><tr><td>train_loss</td><td>75.0</td></tr><tr><td>train_loss_accumulating</td><td>75.0</td></tr><tr><td>val_accuracy</td><td>-74.0</td></tr><tr><td>val_loss</td><td>75.0</td></tr><tr><td>val_loss_accumulating</td><td>75.0</td></tr></table><br/></div></div>"
      ],
      "text/plain": [
       "<IPython.core.display.HTML object>"
      ]
     },
     "metadata": {},
     "output_type": "display_data"
    },
    {
     "data": {
      "text/html": [
       " View run <strong style=\"color:#cdcd00\">banana-cream-pie-44</strong> at: <a href='https://wandb.ai/adrian_s_playground/classifing-eeg/runs/bnrlpo56' target=\"_blank\">https://wandb.ai/adrian_s_playground/classifing-eeg/runs/bnrlpo56</a><br/>Synced 6 W&B file(s), 0 media file(s), 0 artifact file(s) and 0 other file(s)"
      ],
      "text/plain": [
       "<IPython.core.display.HTML object>"
      ]
     },
     "metadata": {},
     "output_type": "display_data"
    },
    {
     "data": {
      "text/html": [
       "Find logs at: <code>./wandb/run-20240314_112900-bnrlpo56/logs</code>"
      ],
      "text/plain": [
       "<IPython.core.display.HTML object>"
      ]
     },
     "metadata": {},
     "output_type": "display_data"
    },
    {
     "data": {
      "text/html": [
       "Successfully finished last run (ID:bnrlpo56). Initializing new run:<br/>"
      ],
      "text/plain": [
       "<IPython.core.display.HTML object>"
      ]
     },
     "metadata": {},
     "output_type": "display_data"
    },
    {
     "data": {
      "text/html": [
       "wandb version 0.16.4 is available!  To upgrade, please run:\n",
       " $ pip install wandb --upgrade"
      ],
      "text/plain": [
       "<IPython.core.display.HTML object>"
      ]
     },
     "metadata": {},
     "output_type": "display_data"
    },
    {
     "data": {
      "text/html": [
       "Tracking run with wandb version 0.16.0"
      ],
      "text/plain": [
       "<IPython.core.display.HTML object>"
      ]
     },
     "metadata": {},
     "output_type": "display_data"
    },
    {
     "data": {
      "text/html": [
       "Run data is saved locally in <code>/vol/aimspace/users/dena/Documents/ad_benchmarking/ad_benchmarking/wandb/run-20240314_113002-n7etw97g</code>"
      ],
      "text/plain": [
       "<IPython.core.display.HTML object>"
      ]
     },
     "metadata": {},
     "output_type": "display_data"
    },
    {
     "data": {
      "text/html": [
       "Syncing run <strong><a href='https://wandb.ai/adrian_s_playground/classifing-eeg/runs/n7etw97g' target=\"_blank\">raspberry-cobbler-45</a></strong> to <a href='https://wandb.ai/adrian_s_playground/classifing-eeg' target=\"_blank\">Weights & Biases</a> (<a href='https://wandb.me/run' target=\"_blank\">docs</a>)<br/>"
      ],
      "text/plain": [
       "<IPython.core.display.HTML object>"
      ]
     },
     "metadata": {},
     "output_type": "display_data"
    },
    {
     "data": {
      "text/html": [
       " View project at <a href='https://wandb.ai/adrian_s_playground/classifing-eeg' target=\"_blank\">https://wandb.ai/adrian_s_playground/classifing-eeg</a>"
      ],
      "text/plain": [
       "<IPython.core.display.HTML object>"
      ]
     },
     "metadata": {},
     "output_type": "display_data"
    },
    {
     "data": {
      "text/html": [
       " View run at <a href='https://wandb.ai/adrian_s_playground/classifing-eeg/runs/n7etw97g' target=\"_blank\">https://wandb.ai/adrian_s_playground/classifing-eeg/runs/n7etw97g</a>"
      ],
      "text/plain": [
       "<IPython.core.display.HTML object>"
      ]
     },
     "metadata": {},
     "output_type": "display_data"
    },
    {
     "name": "stdout",
     "output_type": "stream",
     "text": [
      "cuda:0\n",
      "Epoch [1/10], Validation Loss: 0.0186\n",
      "Epoch [2/10], Validation Loss: 0.0002\n",
      "Epoch [3/10], Validation Loss: 10.0342\n",
      "Epoch [4/10], Validation Loss: 23.3697\n",
      "Epoch [5/10], Validation Loss: 30.9915\n",
      "Epoch [6/10], Validation Loss: 36.9544\n",
      "Epoch [7/10], Validation Loss: 39.2504\n",
      "Epoch [8/10], Validation Loss: 47.3455\n",
      "Epoch [9/10], Validation Loss: 52.4763\n",
      "Epoch [10/10], Validation Loss: 53.8282\n"
     ]
    }
   ],
   "source": [
    "# Grid Search\n",
    "\n",
    "LR = [0.05] #, 0.1, 0.05, 0.02, 0.01]\n",
    "EPOCHS = [10]\n",
    "\n",
    "for epochs in EPOCHS: \n",
    "    for lr in LR: \n",
    "        \n",
    "        h_params[\"lr\"] = lr\n",
    "        h_params[\"num_epochs\"] = epochs\n",
    "        train.train_model(model, train_loader, val_loader, h_params, device) #, overfitting=32)\n",
    "        \n",
    "# train.train_model(model, train_loader, val_loader, h_params, device)"
   ]
  },
  {
   "cell_type": "code",
   "execution_count": null,
   "metadata": {},
   "outputs": [
    {
     "name": "stdout",
     "output_type": "stream",
     "text": [
      "Accuracy of the network on the test set: 0 %\n"
     ]
    }
   ],
   "source": [
    "# correct = 0\n",
    "# total = 0\n",
    "# # since we're not training, we don't need to calculate the gradients for our outputs\n",
    "# with torch.no_grad():\n",
    "#     for data in test_loader:\n",
    "#         X, y = data\n",
    "#         X,y = X.to(device), y.to(device)\n",
    "#         # calculate outputs by running images through the network\n",
    "#         outputs = model(X)\n",
    "#         # the class with the highest energy is what we choose as prediction\n",
    "#         # _, predicted = torch.max(outputs.data, 1)\n",
    "#         total += y.size(0)\n",
    "#         correct += (outputs == y).sum().item()\n",
    "\n",
    "# print(f'Accuracy of the network on the test set: {100 * correct // total} %')"
   ]
  },
  {
   "cell_type": "markdown",
   "metadata": {},
   "source": [
    "## Sweep with WandB\n"
   ]
  },
  {
   "cell_type": "code",
   "execution_count": null,
   "metadata": {},
   "outputs": [],
   "source": [
    "def build_network(hidden_size_1, hidden_size_2, device):  # dropout):\n",
    "    model = model.SimpleClassifierNN(hidden_size1=hidden_size_1, hidden_size2=hidden_size_2)\n",
    "    return model.to(device)"
   ]
  },
  {
   "cell_type": "code",
   "execution_count": null,
   "metadata": {},
   "outputs": [],
   "source": [
    "val_loader = train_loader"
   ]
  },
  {
   "cell_type": "code",
   "execution_count": null,
   "metadata": {},
   "outputs": [],
   "source": [
    "# sweep_config = {\n",
    "#     \"method\": \"random\",\n",
    "#     \"early_terminate\": \"hyperband\",\n",
    "#     \"metric\": { \"name\": \"loss\", \"goal\": \"minimize\"},\n",
    "#     \"parameters\": {\n",
    "#         \"batch_size\": {\n",
    "#             \"distribution\": \"q_log_uniform_values\",\n",
    "#             \"max\": 256,\n",
    "#             \"min\": 2,\n",
    "#             \"q\": 8,\n",
    "#         },\n",
    "#         # \"dropout\": {\"values\": [0.3, 0.4, 0.5]},\n",
    "#         # \"epochs\": {\"value\": 1},\n",
    "#         \"fc_layer_size\": {\"values\": [4096, 2048, 1024, 512]},\n",
    "#         \"learning_rate\": {\"distribution\": \"uniform\", \"max\": 0.1, \"min\": 0},\n",
    "#         \"optimizer\": {\"values\": [\"adamw\", \"adam\", \"sgd\"]},\n",
    "#     },\n",
    "# }\n",
    "\n",
    "# # import pprint #pretty print\n",
    "# # pprint.pprint(sweep_config)\n"
   ]
  },
  {
   "cell_type": "code",
   "execution_count": null,
   "metadata": {},
   "outputs": [],
   "source": [
    "# def train_wandb_main(config=None):\n",
    "#     # Initialize a new wandb run\n",
    "#     with wandb.init(config=config):\n",
    "#         # If called by wandb.agent, as below,\n",
    "#         # this config will be set by Sweep Controller\n",
    "#         config = wandb.config\n",
    "\n",
    "#         loader = dl.build_train_dataloader(config.batch_size)\n",
    "#         model = models.build_network(config.fc_layer_size, device) # config.dropout)\n",
    "#         optimizer = train.build_optimizer(model, config.optimizer, config.learning_rate)\n",
    "\n",
    "#         for epoch in range(config.epochs):\n",
    "#             avg_loss = train.train_epoch(model, loader, optimizer)\n",
    "#             wandb.log({\"loss\": avg_loss, \"epoch\": epoch})           "
   ]
  },
  {
   "cell_type": "code",
   "execution_count": null,
   "metadata": {},
   "outputs": [],
   "source": []
  },
  {
   "cell_type": "code",
   "execution_count": null,
   "metadata": {},
   "outputs": [],
   "source": [
    "# sweep_id = wandb.sweep(sweep_config, project=\"classifing-eeg\")\n",
    "# wandb.agent(sweep_id, train_wandb_main, count=5)"
   ]
  },
  {
   "cell_type": "code",
   "execution_count": null,
   "metadata": {},
   "outputs": [
    {
     "data": {
      "text/plain": [
       "[<matplotlib.lines.Line2D at 0x7f3b79fa7650>]"
      ]
     },
     "execution_count": 34,
     "metadata": {},
     "output_type": "execute_result"
    },
    {
     "data": {
      "image/png": "[encoded data removed]",
      "text/plain": [
       "<Figure size 640x480 with 1 Axes>"
      ]
     },
     "metadata": {},
     "output_type": "display_data"
    }
   ],
   "source": [
    "# dataiter = iter(test_loader)\n",
    "# data_test = next(dataiter)\n",
    "# # data_test\n",
    "# test_X = data_test[0].to(device)\n",
    "# output = model(test_X)\n",
    "\n",
    "# plt.plot(output.to(\"cpu\").detach().numpy())\n",
    "# plt.plot(data_test[1].to(\"cpu\").detach().numpy())"
   ]
  },
  {
   "cell_type": "code",
   "execution_count": null,
   "metadata": {},
   "outputs": [],
   "source": []
  },
  {
   "cell_type": "code",
   "execution_count": null,
   "metadata": {},
   "outputs": [],
   "source": [
    "# for i in enumerate(val_loader): \n",
    "#     # print(i[0]) \n",
    "#     print(i[1][0].shape)\n",
    "\n",
    "# for i in enumerate(train_loader): \n",
    "#     # print(i[0]) \n",
    "#     print(i[1][0].shape)"
   ]
  }
 ],
 "metadata": {
  "kernelspec": {
   "display_name": "mae2",
   "language": "python",
   "name": "python3"
  },
  "language_info": {
   "codemirror_mode": {
    "name": "ipython",
    "version": 3
   },
   "file_extension": ".py",
   "mimetype": "text/x-python",
   "name": "python",
   "nbconvert_exporter": "python",
   "pygments_lexer": "ipython3",
   "version": "3.11.5"
  }
 },
 "nbformat": 4,
 "nbformat_minor": 2
}
