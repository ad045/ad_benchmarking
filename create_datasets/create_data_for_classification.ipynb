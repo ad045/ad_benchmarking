{
 "cells": [
  {
   "cell_type": "markdown",
   "metadata": {},
   "source": [
    "# Creation of the Datasets for classification: Binary \n",
    "\n",
    "Completed"
   ]
  },
  {
   "cell_type": "code",
   "execution_count": 11,
   "metadata": {},
   "outputs": [],
   "source": [
    "import os\n",
    "import numpy as np\n",
    "import pandas as pd\n",
    "\n",
    "import torch"
   ]
  },
  {
   "cell_type": "code",
   "execution_count": 59,
   "metadata": {},
   "outputs": [],
   "source": [
    "dataset = \"lemon\""
   ]
  },
  {
   "cell_type": "code",
   "execution_count": 60,
   "metadata": {},
   "outputs": [],
   "source": [
    "folder_path = \"/vol/aimspace/users/dena/Documents/mae/data/lemon\"\n",
    "\n",
    "data_raw_test = torch.load(os.path.join(folder_path, \"data_raw_test.pt\"))\n",
    "data_raw_train = torch.load(os.path.join(folder_path, \"data_raw_train.pt\"))\n",
    "data_raw_val = torch.load(os.path.join(folder_path, \"data_raw_val.pt\"))\n",
    "\n",
    "labels_raw_test = torch.load(os.path.join(folder_path, \"labels_raw_test.pt\"))\n",
    "labels_raw_train = torch.load(os.path.join(folder_path, \"labels_raw_train.pt\"))\n",
    "labels_raw_val = torch.load(os.path.join(folder_path, \"labels_raw_val.pt\"))"
   ]
  },
  {
   "cell_type": "code",
   "execution_count": 66,
   "metadata": {},
   "outputs": [],
   "source": [
    "save_path = f\"/vol/aimspace/users/dena/Documents/ad_benchmarking/ad_benchmarking/data/{dataset}\"\n",
    "\n",
    "if not os.path.exists(save_path):\n",
    "    os.makedirs(save_path)"
   ]
  },
  {
   "cell_type": "code",
   "execution_count": 67,
   "metadata": {},
   "outputs": [],
   "source": [
    "# Approximate (!) mean age\n",
    "mean_age = labels_raw_test.mean()"
   ]
  },
  {
   "cell_type": "code",
   "execution_count": 68,
   "metadata": {},
   "outputs": [],
   "source": [
    "mask = labels_raw_val > mean_age\n",
    "labels_bin_val = mask * torch.ones(labels_raw_val.shape)\n",
    "torch.save(labels_bin_val, os.path.join(save_path, \"labels_bin_val.pt\"))\n",
    "\n",
    "mask = labels_raw_train > mean_age\n",
    "labels_bin_train = mask * torch.ones(labels_raw_train.shape)\n",
    "torch.save(labels_bin_train, os.path.join(save_path, \"labels_bin_train.pt\"))\n",
    "\n",
    "mask = labels_raw_test > mean_age\n",
    "labels_bin_test = mask * torch.ones(labels_raw_test.shape)\n",
    "torch.save(labels_bin_test, os.path.join(save_path, \"labels_bin_test.pt\"))\n"
   ]
  },
  {
   "cell_type": "code",
   "execution_count": 69,
   "metadata": {},
   "outputs": [],
   "source": [
    "# labels_bin_val\n",
    "# labels_bin_train\n",
    "# labels_bin_test"
   ]
  },
  {
   "cell_type": "markdown",
   "metadata": {},
   "source": [
    "# Creation of the Datasets for classification: Not-binary, but categorized\n",
    "\n",
    "Completed"
   ]
  },
  {
   "cell_type": "code",
   "execution_count": 70,
   "metadata": {},
   "outputs": [],
   "source": [
    "import os\n",
    "import numpy as np\n",
    "import pandas as pd\n",
    "import torch\n",
    "\n",
    "folder_path = \"/vol/aimspace/users/dena/Documents/mae/data/lemon\"\n",
    "\n",
    "data_raw_test = torch.load(os.path.join(folder_path, \"data_raw_test.pt\"))\n",
    "data_raw_train = torch.load(os.path.join(folder_path, \"data_raw_train.pt\"))\n",
    "data_raw_val = torch.load(os.path.join(folder_path, \"data_raw_val.pt\"))\n",
    "\n",
    "labels_raw_test = torch.load(os.path.join(folder_path, \"labels_raw_test.pt\"))\n",
    "labels_raw_train = torch.load(os.path.join(folder_path, \"labels_raw_train.pt\"))\n",
    "labels_raw_val = torch.load(os.path.join(folder_path, \"labels_raw_val.pt\"))"
   ]
  },
  {
   "cell_type": "code",
   "execution_count": 71,
   "metadata": {},
   "outputs": [],
   "source": [
    "# Function to perform one-hot encoding\n",
    "def one_hot_encode(labels, num_bins=20):\n",
    "    \n",
    "    encoded_labels = [] \n",
    "    for label_value in labels.flatten().numpy():\n",
    "        bin_index = int(label_value / (100 / num_bins))\n",
    "        if bin_index > num_bins-1: # if f.e. age is 100 or bigger: \n",
    "            bin_index = num_bins-1\n",
    "\n",
    "        one_hot_vector = np.zeros(num_bins)\n",
    "        one_hot_vector[bin_index] = 1\n",
    "        encoded_labels.append(one_hot_vector)\n",
    "\n",
    "    return encoded_labels"
   ]
  },
  {
   "cell_type": "code",
   "execution_count": 72,
   "metadata": {},
   "outputs": [
    {
     "name": "stdout",
     "output_type": "stream",
     "text": [
      "One-Hot Encoded Labels:\n",
      "tensor([22.5000]): [0. 0. 0. 0. 1. 0. 0. 0. 0. 0. 0. 0. 0. 0. 0. 0. 0. 0. 0. 0.]\n",
      "tensor([72.5000]): [0. 0. 0. 0. 0. 0. 0. 0. 0. 0. 0. 0. 0. 0. 1. 0. 0. 0. 0. 0.]\n",
      "tensor([27.5000]): [0. 0. 0. 0. 0. 1. 0. 0. 0. 0. 0. 0. 0. 0. 0. 0. 0. 0. 0. 0.]\n",
      "tensor([67.5000]): [0. 0. 0. 0. 0. 0. 0. 0. 0. 0. 0. 0. 0. 1. 0. 0. 0. 0. 0. 0.]\n",
      "tensor([67.5000]): [0. 0. 0. 0. 0. 0. 0. 0. 0. 0. 0. 0. 0. 1. 0. 0. 0. 0. 0. 0.]\n",
      "tensor([27.5000]): [0. 0. 0. 0. 0. 1. 0. 0. 0. 0. 0. 0. 0. 0. 0. 0. 0. 0. 0. 0.]\n",
      "tensor([22.5000]): [0. 0. 0. 0. 1. 0. 0. 0. 0. 0. 0. 0. 0. 0. 0. 0. 0. 0. 0. 0.]\n",
      "tensor([67.5000]): [0. 0. 0. 0. 0. 0. 0. 0. 0. 0. 0. 0. 0. 1. 0. 0. 0. 0. 0. 0.]\n",
      "tensor([57.5000]): [0. 0. 0. 0. 0. 0. 0. 0. 0. 0. 0. 1. 0. 0. 0. 0. 0. 0. 0. 0.]\n",
      "tensor([22.5000]): [0. 0. 0. 0. 1. 0. 0. 0. 0. 0. 0. 0. 0. 0. 0. 0. 0. 0. 0. 0.]\n",
      "tensor([22.5000]): [0. 0. 0. 0. 1. 0. 0. 0. 0. 0. 0. 0. 0. 0. 0. 0. 0. 0. 0. 0.]\n",
      "tensor([22.5000]): [0. 0. 0. 0. 1. 0. 0. 0. 0. 0. 0. 0. 0. 0. 0. 0. 0. 0. 0. 0.]\n",
      "tensor([62.5000]): [0. 0. 0. 0. 0. 0. 0. 0. 0. 0. 0. 0. 1. 0. 0. 0. 0. 0. 0. 0.]\n",
      "tensor([27.5000]): [0. 0. 0. 0. 0. 1. 0. 0. 0. 0. 0. 0. 0. 0. 0. 0. 0. 0. 0. 0.]\n",
      "tensor([27.5000]): [0. 0. 0. 0. 0. 1. 0. 0. 0. 0. 0. 0. 0. 0. 0. 0. 0. 0. 0. 0.]\n",
      "tensor([22.5000]): [0. 0. 0. 0. 1. 0. 0. 0. 0. 0. 0. 0. 0. 0. 0. 0. 0. 0. 0. 0.]\n",
      "tensor([22.5000]): [0. 0. 0. 0. 1. 0. 0. 0. 0. 0. 0. 0. 0. 0. 0. 0. 0. 0. 0. 0.]\n",
      "tensor([27.5000]): [0. 0. 0. 0. 0. 1. 0. 0. 0. 0. 0. 0. 0. 0. 0. 0. 0. 0. 0. 0.]\n",
      "tensor([32.5000]): [0. 0. 0. 0. 0. 0. 1. 0. 0. 0. 0. 0. 0. 0. 0. 0. 0. 0. 0. 0.]\n",
      "tensor([27.5000]): [0. 0. 0. 0. 0. 1. 0. 0. 0. 0. 0. 0. 0. 0. 0. 0. 0. 0. 0. 0.]\n",
      "tensor([77.5000]): [0. 0. 0. 0. 0. 0. 0. 0. 0. 0. 0. 0. 0. 0. 0. 1. 0. 0. 0. 0.]\n",
      "tensor([72.5000]): [0. 0. 0. 0. 0. 0. 0. 0. 0. 0. 0. 0. 0. 0. 1. 0. 0. 0. 0. 0.]\n",
      "tensor([72.5000]): [0. 0. 0. 0. 0. 0. 0. 0. 0. 0. 0. 0. 0. 0. 1. 0. 0. 0. 0. 0.]\n",
      "tensor([22.5000]): [0. 0. 0. 0. 1. 0. 0. 0. 0. 0. 0. 0. 0. 0. 0. 0. 0. 0. 0. 0.]\n",
      "tensor([62.5000]): [0. 0. 0. 0. 0. 0. 0. 0. 0. 0. 0. 0. 1. 0. 0. 0. 0. 0. 0. 0.]\n",
      "tensor([67.5000]): [0. 0. 0. 0. 0. 0. 0. 0. 0. 0. 0. 0. 0. 1. 0. 0. 0. 0. 0. 0.]\n",
      "tensor([62.5000]): [0. 0. 0. 0. 0. 0. 0. 0. 0. 0. 0. 0. 1. 0. 0. 0. 0. 0. 0. 0.]\n",
      "tensor([22.5000]): [0. 0. 0. 0. 1. 0. 0. 0. 0. 0. 0. 0. 0. 0. 0. 0. 0. 0. 0. 0.]\n",
      "tensor([27.5000]): [0. 0. 0. 0. 0. 1. 0. 0. 0. 0. 0. 0. 0. 0. 0. 0. 0. 0. 0. 0.]\n",
      "tensor([22.5000]): [0. 0. 0. 0. 1. 0. 0. 0. 0. 0. 0. 0. 0. 0. 0. 0. 0. 0. 0. 0.]\n",
      "tensor([72.5000]): [0. 0. 0. 0. 0. 0. 0. 0. 0. 0. 0. 0. 0. 0. 1. 0. 0. 0. 0. 0.]\n",
      "tensor([27.5000]): [0. 0. 0. 0. 0. 1. 0. 0. 0. 0. 0. 0. 0. 0. 0. 0. 0. 0. 0. 0.]\n"
     ]
    }
   ],
   "source": [
    "encoded_labels = one_hot_encode(labels_raw_test) \n",
    "list_of_tensors = [torch.from_numpy(arr) for arr in encoded_labels]\n",
    "tensor_stack = torch.stack(list_of_tensors)\n",
    "\n",
    "print(\"One-Hot Encoded Labels:\")\n",
    "for label, encoded_label in zip(labels_raw_test, encoded_labels):\n",
    "    print(f\"{label}: {encoded_label}\")"
   ]
  },
  {
   "cell_type": "code",
   "execution_count": 73,
   "metadata": {},
   "outputs": [],
   "source": [
    "tensor_stack\n",
    "save_path = f\"/vol/aimspace/users/dena/Documents/ad_benchmarking/ad_benchmarking/data/{dataset}\"\n",
    "data_type_name = \"categorized\"\n",
    "\n",
    "encoded_labels = one_hot_encode(labels_raw_val) \n",
    "list_of_tensors = [torch.from_numpy(arr) for arr in encoded_labels]\n",
    "labels_bin_val = torch.stack(list_of_tensors)\n",
    "torch.save(labels_bin_val, os.path.join(save_path, f\"labels_{data_type_name}_val.pt\"))\n",
    "\n",
    "encoded_labels = one_hot_encode(labels_raw_train) \n",
    "list_of_tensors = [torch.from_numpy(arr) for arr in encoded_labels]\n",
    "labels_bin_train = torch.stack(list_of_tensors)\n",
    "torch.save(labels_bin_train, os.path.join(save_path, f\"labels_{data_type_name}_train.pt\"))\n",
    "\n",
    "encoded_labels = one_hot_encode(labels_raw_test) \n",
    "list_of_tensors = [torch.from_numpy(arr) for arr in encoded_labels]\n",
    "labels_bin_test = torch.stack(list_of_tensors)\n",
    "torch.save(labels_bin_test, os.path.join(save_path, f\"labels_{data_type_name}_test.pt\"))\n",
    "\n",
    "# labels_bin_val.shape\n",
    "# print(labels_bin_train[:10])\n",
    "# labels_bin_test"
   ]
  },
  {
   "cell_type": "code",
   "execution_count": null,
   "metadata": {},
   "outputs": [],
   "source": []
  },
  {
   "cell_type": "code",
   "execution_count": null,
   "metadata": {},
   "outputs": [],
   "source": []
  }
 ],
 "metadata": {
  "kernelspec": {
   "display_name": "mae2",
   "language": "python",
   "name": "python3"
  },
  "language_info": {
   "codemirror_mode": {
    "name": "ipython",
    "version": 3
   },
   "file_extension": ".py",
   "mimetype": "text/x-python",
   "name": "python",
   "nbconvert_exporter": "python",
   "pygments_lexer": "ipython3",
   "version": "3.11.5"
  }
 },
 "nbformat": 4,
 "nbformat_minor": 2
}
