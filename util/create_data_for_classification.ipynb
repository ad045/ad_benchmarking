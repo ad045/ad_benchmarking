{
 "cells": [
  {
   "cell_type": "markdown",
   "metadata": {},
   "source": [
    "# Creation of the Datasets for classification\n",
    "\n",
    "Completed"
   ]
  },
  {
   "cell_type": "code",
   "execution_count": 11,
   "metadata": {},
   "outputs": [],
   "source": [
    "import os\n",
    "import numpy as np\n",
    "import pandas as pd\n",
    "\n",
    "import torch"
   ]
  },
  {
   "cell_type": "code",
   "execution_count": 12,
   "metadata": {},
   "outputs": [],
   "source": [
    "folder_path = \"/vol/aimspace/users/dena/Documents/mae/data/lemon\"\n",
    "\n",
    "data_raw_test = torch.load(os.path.join(folder_path, \"data_raw_test.pt\"))\n",
    "data_raw_train = torch.load(os.path.join(folder_path, \"data_raw_train.pt\"))\n",
    "data_raw_val = torch.load(os.path.join(folder_path, \"data_raw_val.pt\"))\n",
    "\n",
    "labels_raw_test = torch.load(os.path.join(folder_path, \"labels_raw_test.pt\"))\n",
    "labels_raw_train = torch.load(os.path.join(folder_path, \"labels_raw_train.pt\"))\n",
    "labels_raw_val = torch.load(os.path.join(folder_path, \"labels_raw_val.pt\"))"
   ]
  },
  {
   "cell_type": "code",
   "execution_count": 18,
   "metadata": {},
   "outputs": [],
   "source": [
    "save_path = \"/vol/aimspace/users/dena/Documents/ad_benchmarking/ad_benchmarking/data\""
   ]
  },
  {
   "cell_type": "code",
   "execution_count": 19,
   "metadata": {},
   "outputs": [],
   "source": [
    "# Approximate (!) mean age\n",
    "mean_age = labels_raw_test.mean()"
   ]
  },
  {
   "cell_type": "code",
   "execution_count": 20,
   "metadata": {},
   "outputs": [],
   "source": [
    "mask = labels_raw_val > mean_age\n",
    "labels_bin_val = mask * torch.ones(labels_raw_val.shape)\n",
    "torch.save(labels_bin_val, os.path.join(save_path, \"labels_bin_val.pt\"))\n",
    "\n",
    "mask = labels_raw_train > mean_age\n",
    "labels_bin_train = mask * torch.ones(labels_raw_train.shape)\n",
    "torch.save(labels_bin_train, os.path.join(save_path, \"labels_bin_train.pt\"))\n",
    "\n",
    "mask = labels_raw_test > mean_age\n",
    "labels_bin_test = mask * torch.ones(labels_raw_test.shape)\n",
    "torch.save(labels_bin_test, os.path.join(save_path, \"labels_bin_test.pt\"))\n"
   ]
  },
  {
   "cell_type": "code",
   "execution_count": 16,
   "metadata": {},
   "outputs": [],
   "source": [
    "# labels_bin_val\n",
    "# labels_bin_train\n",
    "# labels_bin_test"
   ]
  }
 ],
 "metadata": {
  "kernelspec": {
   "display_name": "mae2",
   "language": "python",
   "name": "python3"
  },
  "language_info": {
   "codemirror_mode": {
    "name": "ipython",
    "version": 3
   },
   "file_extension": ".py",
   "mimetype": "text/x-python",
   "name": "python",
   "nbconvert_exporter": "python",
   "pygments_lexer": "ipython3",
   "version": "3.11.5"
  }
 },
 "nbformat": 4,
 "nbformat_minor": 2
}
